{
  "nbformat": 4,
  "nbformat_minor": 0,
  "metadata": {
    "colab": {
      "provenance": []
    },
    "kernelspec": {
      "name": "python3",
      "display_name": "Python 3"
    },
    "language_info": {
      "name": "python"
    }
  },
  "cells": [
    {
      "cell_type": "markdown",
      "source": [
        "#**DATA MATH 361 Lab Assigment 1** by John Dominguez-Trujillo"
      ],
      "metadata": {
        "id": "yY_Oaj8SlxBP"
      }
    },
    {
      "cell_type": "markdown",
      "source": [
        "*ALL CODE WAS DEVELOPED IN VISUAL STUDIO CODE AND PASTED INTO GOOGLE COLAB*"
      ],
      "metadata": {
        "id": "KLjPN6CfoIo1"
      }
    },
    {
      "cell_type": "markdown",
      "source": [
        "###**Activity 1: Write Python code to add two numbers of your choice and display their sum.**"
      ],
      "metadata": {
        "id": "iAbTY81vnqqr"
      }
    },
    {
      "cell_type": "code",
      "source": [
        "### Activity 1\n",
        "\n",
        "## ASSIGN VALUES TO VARIABLES\n",
        "num1 = 5\n",
        "num2 = 8\n",
        "\n",
        "## ADD THE VALUES OF THE VARIABLES\n",
        "num_sum = num1 + num2\n",
        "\n",
        "## CREATE AN OUTPUT STRING THAT STATES VALUES OF VARIABLES AND RESULT OF SUMMATION\n",
        "output = f'The sum of {num1} and {num2} is {num_sum}'\n",
        "print(output)"
      ],
      "metadata": {
        "id": "55lMWJajmelP"
      },
      "execution_count": null,
      "outputs": []
    },
    {
      "cell_type": "markdown",
      "source": [
        "###**Activity 2: Write Python code using a loop to add a sequence of at least five numbers of your choice. The code should print out the partial sums and the final total.**"
      ],
      "metadata": {
        "id": "nEzv7_Vgmpwd"
      }
    },
    {
      "cell_type": "code",
      "source": [
        "### Activity 2\n",
        "\n",
        "## CREATE LIST OF 5 CHOSEN NUMBERS\n",
        "my_num_list = [3, 7, 9, 15, 24]\n",
        "\n",
        "## RESET/INITIALIZE SUM TO ZERO\n",
        "num_sum = 0\n",
        "\n",
        "## LOOP THROUGH EACH NUMBER IN MY_NUM_LIST AND SUM\n",
        "## CREATE AND PRINT OUTPUT STRING FOR EACH PARTIAL SUM\n",
        "for number in my_num_list:\n",
        "    num_sum += number\n",
        "    output = f'\\nAdding {number}...\\nPartial Sum: {num_sum}'\n",
        "    print(output)\n",
        "\n",
        "## CREATE FINAL SUM OUTPUT STRING AND PRINT TO CONSOLE\n",
        "final_output = f'\\nThe final sum of adding {my_num_list[0]}, {my_num_list[1]}, {my_num_list[2]}, {my_num_list[3]}, and {my_num_list[4]} is {num_sum}'\n",
        "print(final_output)"
      ],
      "metadata": {
        "id": "Ivwg7pbNnktt"
      },
      "execution_count": null,
      "outputs": []
    },
    {
      "cell_type": "markdown",
      "source": [
        "###**Activity 3: Write Python code to plot and label a quadratic function of your choice in a window that shows its vertex. Have the code mark and label the vertex on the graph of quadratic.**"
      ],
      "metadata": {
        "id": "kxMiVqdTnzyI"
      }
    },
    {
      "cell_type": "code",
      "source": [
        "### Activity 3\n",
        "\n",
        "## NUMPY IS A PYTHON LIBRARY THAT ADDS SUPPORT FOR USING AND HANDLING MULTI-DIMENSIONAL ARRAYS AND MATRICES AND ALLOWS FOR HIHG-LEVEL MATHEMATICAL FUNCTIONS TO BE PERFORMED ON THESE ARRAYS/MATRICES\n",
        "## MATPLOTLIB IS A PLOTTING LIBRARY THAT PROVIDES AN OBJECT-OREINTED API FOR DISPLAYING PLOTS\n",
        "## THESE LIBRARIES ESSENTIALLY GIVE PYTHON THE CAPABILITIES OF MATLAB\n",
        "import numpy as np\n",
        "import matplotlib.pyplot as plt\n",
        "\n",
        "## DEFINE COEFFICIENTS FOR QUADRATIC FUNCTION\n",
        "a,b,c = 2, 3, 2\n",
        "\n",
        "## DEFINE THE QUADRATIC FUNCTION Y = 5X^2 - 13X + 7\n",
        "def quad_eqn(x):\n",
        "    return a * x**2 + b * x + c\n",
        "\n",
        "## CALCULATES VERTEX OF QUADRATIC FUNCTION\n",
        "vertex_x = -b / (2 * a)\n",
        "vertex_y = quad_eqn(vertex_x)\n",
        "\n",
        "## GENERATES X AND Y VALUES FOR THE PLOT\n",
        "## LINSPACE CREATES AN ARRAY/MATRIX OF 500 EVENLY SPACED NUMBERS BETWEEN THE VALUES GIVEN\n",
        "x = np.linspace(vertex_x - 5, vertex_x + 5, 500)\n",
        "y = quad_eqn(x)\n",
        "\n",
        "## CREATES A FIGURE AND DEFINES SIZE\n",
        "## PLOT X AND Y VALUES ON FIGURE, LABEL THE PLOTTED DATA, SETS COLOR TO BLUE\n",
        "## BASICALLY DONE THE SAME WAY IN MATLAB (MY MECH ENG BACKGROUND)\n",
        "plt.figure(figsize = (8,6))\n",
        "plt.plot(x, y, label = 'f(x)', color = 'blue')\n",
        "\n",
        "## LIMITS X AND Y AXIS TO GIVEN PARAMETERS WHEN PLOTTING\n",
        "plt.xlim(-2, 0.5)\n",
        "plt.ylim(0, 5)\n",
        "\n",
        "## MARKS AND LABELS VERTEX ON PLOT WITH A RED POINT AND TEXT\n",
        "## S = 50 SETS THE SIZE OF THE RED POINT\n",
        "## THE .2F ALLOWS FOR ONLY TWO DECIMAL PLACES AFTER THE X AND Y VALUE OF THE VERTEX\n",
        "## THE VERTEX_Y - 0.4 ENSURES TEXT DOES NOT OVERLAP CURVE\n",
        "plt.scatter(vertex_x, vertex_y, color = 'red', label = 'Vertex', s = 50)\n",
        "plt.text(vertex_x, vertex_y - 0.4, f'Vertex: ({vertex_x:.2f}, {vertex_y:.2f})', fontsize = 10, color = 'red', va = 'bottom', ha = 'center')\n",
        "\n",
        "## THIS WILL ALLOW FOR THE 2 TO BE SUPER-SCRIPTED IN THE PLOT TITLE\n",
        "power = '\\u00b2'\n",
        "\n",
        "## ADDS TITLE TO PLOT AND LABELS THE X AND Y AXIS OF THE PLOT\n",
        "plt.title(f'Quadratic Function and Vertex Visualization\\nf(x) = {a}x{power} + {b}x + {c}')\n",
        "plt.xlabel('x')\n",
        "plt.ylabel('f(x)')\n",
        "\n",
        "## ADDS A VERTICAL LINE OF SYMMETRY AT THE X VERTEX\n",
        "plt.axvline(vertex_x, color = 'grey', linewidth = 0.8, linestyle = '--', label = 'Axis of Symmetry')\n",
        "\n",
        "## ADDS A GRID AND LEGEND TO THE FIGURE\n",
        "## ALPHA CONTROLS THE TRANSPARENCY OF THE GRID LINES\n",
        "plt.grid(alpha = 0.3)\n",
        "plt.legend()\n",
        "\n",
        "## SHOWS THE PLOT IN THE FIGURE\n",
        "plt.show()"
      ],
      "metadata": {
        "id": "3TBZd7pbn-fj"
      },
      "execution_count": null,
      "outputs": []
    }
  ]
}