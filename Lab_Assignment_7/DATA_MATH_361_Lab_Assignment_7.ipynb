{
  "nbformat": 4,
  "nbformat_minor": 0,
  "metadata": {
    "colab": {
      "provenance": []
    },
    "kernelspec": {
      "name": "python3",
      "display_name": "Python 3"
    },
    "language_info": {
      "name": "python"
    }
  },
  "cells": [
    {
      "cell_type": "markdown",
      "source": [
        "#**DATA MATH 361 Lab Assignment 7** by John Dominguez-Trujillo"
      ],
      "metadata": {
        "id": "beG3G45txmCE"
      }
    },
    {
      "cell_type": "markdown",
      "source": [
        "*ALL CODE WAS DEVELOPED IN VISUAL STUDIO CODE AND PASTED INTO GOOGLE COLAB*"
      ],
      "metadata": {
        "id": "uYzarhVvxv1D"
      }
    },
    {
      "cell_type": "markdown",
      "source": [
        "###**Activity 1:** In October 2024, Pew Research surveyed 9593 UA adults about the impact of Covid. They found that 4125 people agreed that it was important for people who had cold symptoms to wear a mask in crowded places. Does Pew have evidence that significantly fewer than 45% of the population thought it was important to wear a mask with cold symptoms?"
      ],
      "metadata": {
        "id": "JXP4SkGlx7en"
      }
    },
    {
      "cell_type": "code",
      "source": [
        "### Activity 1\n",
        "\n",
        "## IMPORTS ESSENTIAL LIBRARIES\n",
        "## SCIPY.STATS IS A SCIPY LIBRARY THAT PROVIDES VARIOUS STATISTICAL FUNCTIONS SUCH AS PROBABILITY DISTRIBUTIONS, STATISTICAL TESTS, AND DESCRIPTIVE STATISTICS\n",
        "## NUMPY IS A PYTHON LIBRARY THAT ADDS SUPPORT FOR USING AND HANDLING MULTI-DIMENSIONAL ARRAYS AND MATRICES AND ALLOWS FOR HIHG-LEVEL MATHEMATICAL FUNCTIONS TO BE PERFORMED ON THESE ARRAYS/MATRICES\n",
        "import scipy.stats as stats\n",
        "import numpy as np\n",
        "\n",
        "## DEFINE SAMPLE SIZE, GIVEN VALUES, AND NULL HYPOTHESES\n",
        "sample_size = 9593  ## TOTAL SURVEYED\n",
        "successes = 4125    ## TOTAL IN FAVOR OF MASKS\n",
        "p0 = 0.45           ## NULL HYPOTHESIS PROPORTION\n",
        "\n",
        "## COMPUTE SAMPLE PROPORTION\n",
        "p_hat = successes / sample_size\n",
        "\n",
        "## COMPUTE STANDARD ERROR FOR ONE SAMPLE CATEGORICAL HYPOTHESES TEST\n",
        "standard_error = np.sqrt((p0 * (1 - p0)) / sample_size)\n",
        "\n",
        "## COMPUTE Z-SCORE\n",
        "z_score = (p_hat - p0) / standard_error\n",
        "\n",
        "## COMPUTE P-VALUE, ONE-TAILED TEST SINCE WE ARE TESTING IF IT SUPPORT IS SIGNIFICANTLY FEWER THAN THE NULL HYPOTHESIS PROPORTION\n",
        "p_value = stats.norm.cdf(z_score)\n",
        "\n",
        "## PRINT RESULTING Z-SCORE AND P-VALUE\n",
        "print('Part 1: Categorical Hypothesis Test\\n')\n",
        "print(f'Z-score: {z_score:.6f}')\n",
        "print(f'P-value: {p_value:.6f}')\n",
        "\n",
        "## INTERPRET P-VALUE AND DETERMINE CONCLUSIONS BASED ON THE STATISTICAL EVIDENCE\n",
        "alpha = 0.05    ## SIGNIFICANCE LEVEL\n",
        "if p_value < alpha:\n",
        "    print('Reject the Null Hypothesis: Significantly fewer than 45% support mask-wearing.')\n",
        "else:\n",
        "    print('Fail to Reject the Null Hypothesis: No significant evidence of fewer than 45% support.')"
      ],
      "metadata": {
        "colab": {
          "base_uri": "https://localhost:8080/"
        },
        "id": "cndIvIE5yIKw",
        "outputId": "c09396b7-bc2d-4659-e1f7-4fc7e887ca2a"
      },
      "execution_count": 2,
      "outputs": [
        {
          "output_type": "stream",
          "name": "stdout",
          "text": [
            "Part 1: Categorical Hypothesis Test\n",
            "\n",
            "Z-score: -3.937286\n",
            "P-value: 0.000041\n",
            "Reject the Null Hypothesis: Significantly fewer than 45% support mask-wearing.\n"
          ]
        }
      ]
    },
    {
      "cell_type": "markdown",
      "source": [
        "###**Activity 2:** In 2024, the annual inflation rate was predicted to be 3% (That means prices were predicted to be 3% higher than they were a year previously). The actual annual inflation rate for each of the 12 months in 2024 had a mean of 3.395% with a standard deviation of 0.22%. Thinking of the 12 months of 2024 as a random sample (this may not be a good assumption!), do a hypothesis test to decide if the mean inflation was significantly different in 2024 to the 3% that was predicted.\n"
      ],
      "metadata": {
        "id": "rhktc_PTyRsV"
      }
    },
    {
      "cell_type": "code",
      "source": [
        "### Activity 2\n",
        "\n",
        "## IMPORTS ESSENTIAL LIBRARIES\n",
        "## SCIPY.STATS IS A SCIPY LIBRARY THAT PROVIDES VARIOUS STATISTICAL FUNCTIONS SUCH AS PROBABILITY DISTRIBUTIONS, STATISTICAL TESTS, AND DESCRIPTIVE STATISTICS\n",
        "## NUMPY IS A PYTHON LIBRARY THAT ADDS SUPPORT FOR USING AND HANDLING MULTI-DIMENSIONAL ARRAYS AND MATRICES AND ALLOWS FOR HIHG-LEVEL MATHEMATICAL FUNCTIONS TO BE PERFORMED ON THESE ARRAYS/MATRICES\n",
        "import scipy.stats as stats\n",
        "import numpy as np\n",
        "\n",
        "##EXPLANATIONS: Define given values.\n",
        "## DEFINE SAMPLE MEAN, SAMPLE STANDARD DEVIATION, N, AND NULL HYPOTHESIS AVERAGE\n",
        "sample_mean = 3.395 ## OBSERVED MEAN INFLATION RATE\n",
        "sample_std = 0.22   ## STANDARD DEVIATION OF SAMPLE\n",
        "n = 12              ## NUMBER OF MONTHS SAMPLED\n",
        "mu0 = 3.0           ## PREDICTED MEAN INFLATION RATE\n",
        "\n",
        "## COMPUTE STANDARD ERROR FOR ONE SAMPLE QUANTITATIVE HYPOTHESIS TEST\n",
        "standard_error = sample_std / np.sqrt(n)\n",
        "\n",
        "## COMPUTE T-SCORE\n",
        "t_score = (sample_mean - mu0) / standard_error\n",
        "\n",
        "## COMPUTE P-VALUE, MULTIPLIED BY TWO FOR TWO-TAILED TEST SINCE WE ARE TESTING IF IT IS DIFFERENT FROM THE NULL HYPOTHESIS\n",
        "p_value = 2 * (1 - stats.t.cdf(abs(t_score), df=n-1))\n",
        "\n",
        "## PRINT RESULTING T-SCORE, P-VALUE, SAMPLE MEAN, AND NULL HYPOTHESIS MEAN\n",
        "print('Part 2: Quantitative Hypothesis Test for Mean Inflation Rate\\n')\n",
        "print(f'T-score: {t_score:.6f}')\n",
        "print(f'P-value: {p_value:.6f}')\n",
        "print(f'Sample Mean: {sample_mean:.3f}')\n",
        "print(f'Null Hypothesis Mean: {mu0:.1f}')\n",
        "\n",
        "## INTERPRET P-VALUE AND DETERMINE CONCLUSIONS BASED ON THE STATISTICAL EVIDENCE\n",
        "alpha = 0.05    ## SIGNIFICANCE LEVEL\n",
        "if p_value < alpha:\n",
        "    print('Reject the Null Hypothesis: Mean inflation rate significantly differs from 3%.')\n",
        "else:\n",
        "    print('Fail to Reject the Null Hypothesis: No significant evidence that inflation rate differs from 3%.')"
      ],
      "metadata": {
        "colab": {
          "base_uri": "https://localhost:8080/"
        },
        "id": "ZftpBXkQylXy",
        "outputId": "30979b1a-0b88-4c58-cedc-1cd32beca8b5"
      },
      "execution_count": 4,
      "outputs": [
        {
          "output_type": "stream",
          "name": "stdout",
          "text": [
            "Part 2: Quantitative Hypothesis Test for Mean Inflation Rate\n",
            "\n",
            "T-score: 6.219637\n",
            "P-value: 0.000065\n",
            "Sample Mean: 3.395\n",
            "Null Hypothesis Mean: 3.0\n",
            "Reject the Null Hypothesis: Mean inflation rate significantly differs from 3%.\n"
          ]
        }
      ]
    }
  ]
}