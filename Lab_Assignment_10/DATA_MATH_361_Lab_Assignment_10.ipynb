{
  "nbformat": 4,
  "nbformat_minor": 0,
  "metadata": {
    "colab": {
      "provenance": []
    },
    "kernelspec": {
      "name": "python3",
      "display_name": "Python 3"
    },
    "language_info": {
      "name": "python"
    }
  },
  "cells": [
    {
      "cell_type": "markdown",
      "source": [
        "#**DATA MATH 361 Lab Assignment 10** by John Dominguez-Trujillo"
      ],
      "metadata": {
        "id": "uArM6nMHIJn1"
      }
    },
    {
      "cell_type": "markdown",
      "source": [
        "*ALL CODE WAS DEVELOPED IN VISUAL STUDIO CODE AND PASTED INTO GOOGLE COLAB*"
      ],
      "metadata": {
        "id": "zwx4VrBGISAP"
      }
    },
    {
      "cell_type": "markdown",
      "source": [
        "###**Activity 1:** Write Python code for a regression table of \"Income\" against \"Age\". Write Python code for a regression table of \"Income\" against \"Experience\". Write Python code for a regression table of \"Income\" against \"Age\" and \"Experience\". For each of the three regressions, give a verbal interpretation of the coefficients of “Age” and “Experience”. There will be four interpretations in all. These interpretations should include numbers (the values of the coefficients) and units (years, dollars). Interpretation should also say which other variables, if any, are held constant."
      ],
      "metadata": {
        "id": "NuTN62UDIefA"
      }
    },
    {
      "cell_type": "code",
      "source": [
        "### Activity 1\n",
        "\n",
        "## IMPORTS ESSENTIAL LIBRARIES\n",
        "## PANDAS IS A LIBRARY USED FOR DATA MANIPULATION, ANALYSIS, AND DATA STRUCTURES\n",
        "## STATSMODELS IS A LIBRARY USED FOR ESTIMATING STATISTICAL MODELS AND PERFORMING REGRESSION ANALYSIS, INCLUDING GENERATING REGRESSION TABLES\n",
        "## STATS MODELS FORMULA API (SMF) ALLOWS LINEAR MODELS TO BE SPECIFIED USING R-LIKE FORMULAS SUCH AS 'INCOME ~ AGE'\n",
        "import pandas as pd\n",
        "import statsmodels.api as sm\n",
        "import statsmodels.formula.api as smf\n",
        "\n",
        "## LOADS DATA FROM CSV INTO A VARIABLE\n",
        "## USING A URL THAT LINKS DIRECTLY TO THE CSV FILE IN MY GITHUB SO ANYONE CAN ACCESS IT\n",
        "url = 'https://raw.githubusercontent.com/JohnDT-MechE/DATA-MATH-361-Lab-Assignments/refs/heads/main/Lab_Assignment_10/Income.csv'\n",
        "df = pd.read_csv(url)\n",
        "df.head()\n",
        "\n",
        "\n",
        "## 1.1 REGRESSION TABLE OF INCOME AGAINST AGE\n",
        "\n",
        "## THIS USES STATSMODELS FORMULA API TO FIT A LINEAR REGRESSION MODEL PREDICTING INCOME BASED ON AGE\n",
        "## .FIT() TRAINS THE MODEL ON THE DATA\n",
        "model_age = smf.ols('Income ~ Age', data=df).fit()\n",
        "print(\"Regression: Income ~ Age\")\n",
        "\n",
        "## PRINTS THE FULL REGRESSION TABLE TO THE OUTPUT TERMINAL\n",
        "print(model_age.summary())\n",
        "\n",
        "## PRINTS A NEW LINE TO IMPROVE READABILITY OF OUTPUT\n",
        "print('\\n')\n",
        "\n",
        "\n",
        "## 1.2 REGRESSION TABLE OF INCOME AGAINST EXPERIENCE\n",
        "\n",
        "## THIS USES STATSMODELS FORMULA API TO FIT A LINEAR REGRESSION MODEL PREDICTING INCOME BASED ON EXPERIENCE\n",
        "## DIFFERENCE IS THAT THE PREDICTOR IS NOW EXPERIENCE\n",
        "model_exp = smf.ols('Income ~ Experience', data=df).fit()\n",
        "print(\"\\nRegression: Income ~ Experience\")\n",
        "print(model_exp.summary())\n",
        "print('\\n')\n",
        "\n",
        "\n",
        "## 1.3 REGRESSION TABLE OF INCOME AGAINST AGE AND EXPERIENCE\n",
        "\n",
        "## THIS USES STATSMODELS FORMULA API TO FIT A LINEAR REGRESSION MODEL PREDICTING INCOME BASED ON AGE AND EXPERIENCE\n",
        "## DIFFERENCE IS THAT THE PREDICTOR IS NOW AGE AND EXPERIENCE\n",
        "model_both = smf.ols('Income ~ Age + Experience', data=df).fit()\n",
        "print(\"\\nRegression: Income ~ Age + Experience\")\n",
        "print(model_both.summary())"
      ],
      "metadata": {
        "colab": {
          "base_uri": "https://localhost:8080/"
        },
        "id": "2_b9bJoEJUJv",
        "outputId": "2665fefe-5c92-42f6-91c5-3a73a6c77575"
      },
      "execution_count": 1,
      "outputs": [
        {
          "output_type": "stream",
          "name": "stdout",
          "text": [
            "Regression: Income ~ Age\n",
            "                            OLS Regression Results                            \n",
            "==============================================================================\n",
            "Dep. Variable:                 Income   R-squared:                       0.283\n",
            "Model:                            OLS   Adj. R-squared:                  0.243\n",
            "Method:                 Least Squares   F-statistic:                     7.113\n",
            "Date:                Fri, 18 Apr 2025   Prob (F-statistic):             0.0157\n",
            "Time:                        17:48:13   Log-Likelihood:                -205.35\n",
            "No. Observations:                  20   AIC:                             414.7\n",
            "Df Residuals:                      18   BIC:                             416.7\n",
            "Df Model:                           1                                         \n",
            "Covariance Type:            nonrobust                                         \n",
            "==============================================================================\n",
            "                 coef    std err          t      P>|t|      [0.025      0.975]\n",
            "------------------------------------------------------------------------------\n",
            "Intercept   2.298e+04   6858.549      3.350      0.004    8565.884    3.74e+04\n",
            "Age          447.9278    167.950      2.667      0.016      95.078     800.778\n",
            "==============================================================================\n",
            "Omnibus:                        0.016   Durbin-Watson:                   2.294\n",
            "Prob(Omnibus):                  0.992   Jarque-Bera (JB):                0.223\n",
            "Skew:                          -0.006   Prob(JB):                        0.894\n",
            "Kurtosis:                       2.483   Cond. No.                         171.\n",
            "==============================================================================\n",
            "\n",
            "Notes:\n",
            "[1] Standard Errors assume that the covariance matrix of the errors is correctly specified.\n",
            "\n",
            "\n",
            "\n",
            "Regression: Income ~ Experience\n",
            "                            OLS Regression Results                            \n",
            "==============================================================================\n",
            "Dep. Variable:                 Income   R-squared:                       0.969\n",
            "Model:                            OLS   Adj. R-squared:                  0.967\n",
            "Method:                 Least Squares   F-statistic:                     557.1\n",
            "Date:                Fri, 18 Apr 2025   Prob (F-statistic):           5.42e-15\n",
            "Time:                        17:48:13   Log-Likelihood:                -174.04\n",
            "No. Observations:                  20   AIC:                             352.1\n",
            "Df Residuals:                      18   BIC:                             354.1\n",
            "Df Model:                           1                                         \n",
            "Covariance Type:            nonrobust                                         \n",
            "==============================================================================\n",
            "                 coef    std err          t      P>|t|      [0.025      0.975]\n",
            "------------------------------------------------------------------------------\n",
            "Intercept   2.825e+04    630.509     44.803      0.000    2.69e+04    2.96e+04\n",
            "Experience  2014.0408     85.329     23.603      0.000    1834.772    2193.310\n",
            "==============================================================================\n",
            "Omnibus:                        0.757   Durbin-Watson:                   1.744\n",
            "Prob(Omnibus):                  0.685   Jarque-Bera (JB):                0.710\n",
            "Skew:                           0.171   Prob(JB):                        0.701\n",
            "Kurtosis:                       2.143   Cond. No.                         13.8\n",
            "==============================================================================\n",
            "\n",
            "Notes:\n",
            "[1] Standard Errors assume that the covariance matrix of the errors is correctly specified.\n",
            "\n",
            "\n",
            "\n",
            "Regression: Income ~ Age + Experience\n",
            "                            OLS Regression Results                            \n",
            "==============================================================================\n",
            "Dep. Variable:                 Income   R-squared:                       0.977\n",
            "Model:                            OLS   Adj. R-squared:                  0.975\n",
            "Method:                 Least Squares   F-statistic:                     366.5\n",
            "Date:                Fri, 18 Apr 2025   Prob (F-statistic):           1.05e-14\n",
            "Time:                        17:48:13   Log-Likelihood:                -170.81\n",
            "No. Observations:                  20   AIC:                             347.6\n",
            "Df Residuals:                      17   BIC:                             350.6\n",
            "Df Model:                           2                                         \n",
            "Covariance Type:            nonrobust                                         \n",
            "==============================================================================\n",
            "                 coef    std err          t      P>|t|      [0.025      0.975]\n",
            "------------------------------------------------------------------------------\n",
            "Intercept   3.126e+04   1306.437     23.929      0.000    2.85e+04     3.4e+04\n",
            "Age          -99.1954     38.979     -2.545      0.021    -181.433     -16.958\n",
            "Experience  2162.4042     94.770     22.817      0.000    1962.457    2362.351\n",
            "==============================================================================\n",
            "Omnibus:                        0.799   Durbin-Watson:                   1.628\n",
            "Prob(Omnibus):                  0.671   Jarque-Bera (JB):                0.695\n",
            "Skew:                          -0.404   Prob(JB):                        0.707\n",
            "Kurtosis:                       2.575   Cond. No.                         180.\n",
            "==============================================================================\n",
            "\n",
            "Notes:\n",
            "[1] Standard Errors assume that the covariance matrix of the errors is correctly specified.\n"
          ]
        }
      ]
    },
    {
      "cell_type": "markdown",
      "source": [
        "**Regression Table of Income Against Age:** Here, the coefficient for age is 447.9278 which means that for every additional year of age, a person's income increases by approximately \\$448, assuming no other variables are included. Also, the intercept of 22980 represents the expected income (in dollars) of someone who is 0 years old, which is not too meaningful in this context. In this analysis, no other variables are included in this model, therefore, no variables are held constant as this model only looks at how income changes with age by itself."
      ],
      "metadata": {
        "id": "9TnL4KldBNy1"
      }
    },
    {
      "cell_type": "markdown",
      "source": [
        "**Regression Table of Income Against Experience:** Here, the coefficient for experience is 2014.0408 which means that for every additional year of experience, the income increases by about \\$2014. Also,the intercept of 28250 is the expected income (in dollars) for someone with 0 years of experience--likely someone just starting a job. In this analysis, no other varaibles are included, therefore, no variables are held constant as this model only looks at income in relation to experience alone."
      ],
      "metadata": {
        "id": "ltGdzAkmCSDG"
      }
    },
    {
      "cell_type": "markdown",
      "source": [
        "**Regression Table of Income Against Age and Experience:** Here, the coefficient for age is -99.1954 which means that for every additional year of age, holding experience constant, income decreases by about \\$99. The coefficient for experience is 2162.4042 which means that for every additional year of experience, holding age constant, income increases by about \\$2162. Also, the intercept of 31260 represents the expected income (in dollars) of someone who is 0 years old and has 0 years of experience, which is not particularly meaningful in this context. In this analysis, both age and experience are included, therefore, when interpreting the age coefficient, experience is held constant and when interpreting the experience coefficient, age is held constant. This basically allows us to analyze how \"income changes with age while holding experience constant\" and how \"income changes with experience while holding age constant\"."
      ],
      "metadata": {
        "id": "X3jvaTJqDF8c"
      }
    }
  ]
}