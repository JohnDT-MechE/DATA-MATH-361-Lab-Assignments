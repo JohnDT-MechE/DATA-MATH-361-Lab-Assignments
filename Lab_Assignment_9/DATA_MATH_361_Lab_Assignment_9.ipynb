{
  "nbformat": 4,
  "nbformat_minor": 0,
  "metadata": {
    "colab": {
      "provenance": []
    },
    "kernelspec": {
      "name": "python3",
      "display_name": "Python 3"
    },
    "language_info": {
      "name": "python"
    }
  },
  "cells": [
    {
      "cell_type": "markdown",
      "source": [
        "#**DATA MATH 361 Lab Assignment 9** by John Dominguez-Trujillo"
      ],
      "metadata": {
        "id": "VhGMH3qGESmM"
      }
    },
    {
      "cell_type": "markdown",
      "source": [
        "*ALL CODE WAS DEVELOPED IN VISUAL STUDIO CODE AND PASTED INTO GOOGLE COLAB*"
      ],
      "metadata": {
        "id": "VQNS3W1GEd5f"
      }
    },
    {
      "cell_type": "markdown",
      "source": [
        "###**Activity 1:** Find a data set with two quantitative variables and at least 50 observations. It can be the same one as in Lab 8. Write Python code to give a regression table. Use the table to identify the equation of the linear model. Use the table to decide whether the response variable is changing significantly as a function of the response variable. Justify your answer using three different numbers from the table. Be specific.\n"
      ],
      "metadata": {
        "id": "oO7s-fSNEmE9"
      }
    },
    {
      "cell_type": "code",
      "source": [
        "### Activity 1\n",
        "\n",
        "## IMPORTS ESSENTIAL LIBRARIES\n",
        "## PANDAS IS A LIBRARY USED FOR DATA MANIPULATION, ANALYSIS, AND DATA STRUCTURES\n",
        "## STATSMODELS IS A LIBRARY USED FOR ESTIMATING STATISTICAL MODELS AND PERFORMING REGRESSION ANALYSIS, INCLUDING GENERATING REGRESSION TABLES\n",
        "import pandas as pd\n",
        "import statsmodels.api as sm\n",
        "\n",
        "## LOADS DATA FROM CSV INTO A VARIABLE\n",
        "## USING A URL THAT LINKS DIRECTLY TO THE CSV FILE IN MY GITHUB SO ANYONE CAN ACCESS IT\n",
        "url = 'https://raw.githubusercontent.com/JohnDT-MechE/DATA-MATH-361-Lab-Assignments/main/Lab_Assignment_8/co2-emissions-vs-gdp.csv'\n",
        "data = pd.read_csv(url)\n",
        "\n",
        "## FILTERS THE DATA FOR THE YEAR 2019\n",
        "data_2019 = data[data['Year'] == 2019]\n",
        "\n",
        "## DROPS ROWS WITH MISSING VALUES IN 'ANNUAL CO₂ EMISSIONS (PER CAPITA)' AND 'GDP PER CAPITA' COLUMNS\n",
        "data_2019 = data_2019.dropna(subset=['GDP per capita', 'Annual CO₂ emissions (per capita)'])\n",
        "\n",
        "## EXTRACTS THE INDEPENDENT VARIABLE (GDP PER CAPITA) INTO X\n",
        "## EXTRACTS THE DEPENDENT VARIABLE (ANNUAL CO₂ EMISSIONS (PER CAPITA)) INTO Y\n",
        "X = data_2019['GDP per capita']\n",
        "y = data_2019['Annual CO₂ emissions (per capita)']\n",
        "\n",
        "## ADDS A COLUMN OF ONES TO X SO THE REGRESSION MODEL INCLUDES AN INTERCEPT TERM\n",
        "X = sm.add_constant(X)\n",
        "\n",
        "## SM.OLS FITS A LINEAR REGRESSION MODEL USING ORDINARY LEAST SQUARES\n",
        "## .FIT() TRAINS THE MODEL ON THE DATA\n",
        "model = sm.OLS(y, X).fit()\n",
        "\n",
        "## PRINTS THE FULL REGRESSION TABLE TO THE OUTPUT TERMINAL\n",
        "print(model.summary())"
      ],
      "metadata": {
        "colab": {
          "base_uri": "https://localhost:8080/"
        },
        "id": "JAjJO97aE_Ix",
        "outputId": "7cc4468b-c025-423a-d957-64f3a96bfa5c"
      },
      "execution_count": 1,
      "outputs": [
        {
          "output_type": "stream",
          "name": "stdout",
          "text": [
            "                                    OLS Regression Results                                   \n",
            "=============================================================================================\n",
            "Dep. Variable:     Annual CO₂ emissions (per capita)   R-squared:                       0.621\n",
            "Model:                                           OLS   Adj. R-squared:                  0.619\n",
            "Method:                                Least Squares   F-statistic:                     267.0\n",
            "Date:                               Sun, 06 Apr 2025   Prob (F-statistic):           3.68e-36\n",
            "Time:                                       22:07:00   Log-Likelihood:                -442.12\n",
            "No. Observations:                                165   AIC:                             888.2\n",
            "Df Residuals:                                    163   BIC:                             894.4\n",
            "Df Model:                                          1                                         \n",
            "Covariance Type:                           nonrobust                                         \n",
            "==================================================================================\n",
            "                     coef    std err          t      P>|t|      [0.025      0.975]\n",
            "----------------------------------------------------------------------------------\n",
            "const              0.4632      0.380      1.219      0.225      -0.287       1.213\n",
            "GDP per capita     0.0002   1.35e-05     16.339      0.000       0.000       0.000\n",
            "==============================================================================\n",
            "Omnibus:                       95.640   Durbin-Watson:                   2.107\n",
            "Prob(Omnibus):                  0.000   Jarque-Bera (JB):              826.022\n",
            "Skew:                           1.940   Prob(JB):                    4.28e-180\n",
            "Kurtosis:                      13.252   Cond. No.                     3.87e+04\n",
            "==============================================================================\n",
            "\n",
            "Notes:\n",
            "[1] Standard Errors assume that the covariance matrix of the errors is correctly specified.\n",
            "[2] The condition number is large, 3.87e+04. This might indicate that there are\n",
            "strong multicollinearity or other numerical problems.\n"
          ]
        }
      ]
    },
    {
      "cell_type": "markdown",
      "source": [
        "Yes, the response variable, the annual $CO_2$ emmisions per capita, is changing **significantly** as a function of the explanatory variable, the GDP per capita. This conclusion can be made due to three specific values from the regression tables. First, the p-value for the GDP per capita coefficient is very small (equal to 0.000) and is far below the standard significance level of 0.05. This means that the relationship between the GDP per capita and the annual $CO_2$ emissions per capita is statistically significant. It also indicates that there is strong evidence against the null hypothesis that the slppe is zero. Due to this, it can be confidently said that there is a linear relationship. Second, the slope of the regression line is about 0.0002. This means that for every \\$1 increase in GDP per capita, the annual $CO_2$ emmisions per capita increase by 0.0002 metric tons. Since this is a positive value, it indicates that there is a direct relationship between the two variables. Finally, the $R^2$ value is about 0.621. This means that about 62.1% of the variation in annual $CO_2$ emissions per capita can be explained by GDP per capita. It also indicates that the model fits the data reasonably well. When put together, these values show that the model is statistically significant and that the GDP per capita is a meaningful predictor of annual $CO_2$ emmissionas per capita."
      ],
      "metadata": {
        "id": "Oy6t_inZFR0k"
      }
    }
  ]
}