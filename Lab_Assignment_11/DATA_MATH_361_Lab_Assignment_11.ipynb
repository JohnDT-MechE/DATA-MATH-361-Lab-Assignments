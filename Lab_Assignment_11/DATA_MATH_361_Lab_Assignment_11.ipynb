{
  "nbformat": 4,
  "nbformat_minor": 0,
  "metadata": {
    "colab": {
      "provenance": []
    },
    "kernelspec": {
      "name": "python3",
      "display_name": "Python 3"
    },
    "language_info": {
      "name": "python"
    }
  },
  "cells": [
    {
      "cell_type": "markdown",
      "source": [
        "#**DATA MATH 361 Lab Assignment 11** by John Dominguez-Trujillo"
      ],
      "metadata": {
        "id": "X-MDKbfVdNOY"
      }
    },
    {
      "cell_type": "markdown",
      "source": [
        "*ALL CODE WAS DEVELOPED IN VISUAL STUDIO CODE AND PASTED INTO GOOGLE COLAB*"
      ],
      "metadata": {
        "id": "ixMJ2-O3dVJE"
      }
    },
    {
      "cell_type": "markdown",
      "source": [
        "###**Activity 1:** Write Python code for a regression table of 'Adjusted Costs (billions USD 2024)' against 'Year'. Write Python code for a regression table of 'Adjusted Costs (billions USD 2024)' against 'US Pop (millions)'. Write Python code for a regression table of 'Adjusted Costs (billions USD 2024)' against 'Year' and 'US Pop (millions)'. For each of the three regressions, report whether the variable(s) is/are significant predictors of hurrican damage. Is there an apparent conflict between what you observe in the three regressions?"
      ],
      "metadata": {
        "id": "8acJAymFdsI9"
      }
    },
    {
      "cell_type": "code",
      "source": [
        "### Activity 1\n",
        "\n",
        "## IMPORTS ESSENTIAL LIBRARIES\n",
        "## PANDAS IS A LIBRARY USED FOR DATA MANIPULATION, ANALYSIS, AND DATA STRUCTURES\n",
        "## STATSMODELS IS A LIBRARY USED FOR ESTIMATING STATISTICAL MODELS AND PERFORMING REGRESSION ANALYSIS, INCLUDING GENERATING REGRESSION TABLES\n",
        "## STATS MODELS FORMULA API (SMF) ALLOWS LINEAR MODELS TO BE SPECIFIED USING R-LIKE FORMULAS\n",
        "import pandas as pd\n",
        "import statsmodels.api as sm\n",
        "import statsmodels.formula.api as smf\n",
        "\n",
        "## LOADS DATA FROM CSV INTO A VARIABLE\n",
        "## USING A URL THAT LINKS DIRECTLY TO THE CSV FILE IN MY GITHUB SO ANYONE CAN ACCESS IT\n",
        "url = 'https://raw.githubusercontent.com/JohnDT-MechE/DATA-MATH-361-Lab-Assignments/refs/heads/main/Lab_Assignment_11/Hurricanes%202024%20data.csv'\n",
        "df = pd.read_csv(url)\n",
        "\n",
        "## THIS SELECTS SPECIFIC COLUMNS FROM THE DATAFRAME AND REMOVES ANY ROWS THAT CONTAIN MISSING VALUES\n",
        "df = df[[\"Year\", \"US Pop (millions)\", \"Adjusted Costs (billions USD 2024)\"]].dropna()\n",
        "\n",
        "\n",
        "## 1.1 REGRESSION TABLE OF ADJUSTED COSTS AGAINST YEAR\n",
        "\n",
        "## THIS USES STATSMODELS FORMULA API TO FIT A LINEAR REGRESSION MODEL PREDICTING ADJUSTED COSTS BASED ON YEAR\n",
        "## .FIT() TRAINS THE MODEL ON THE DATA\n",
        "model1 = smf.ols('Q(\"Adjusted Costs (billions USD 2024)\") ~ Year', data=df).fit()\n",
        "\n",
        "## PRINTS A TITLE LINE TO IMPROVE READABILITY OF OUTPUT\n",
        "print(\"\\n--- Regression 1: Adjusted Costs vs. Year ---\")\n",
        "\n",
        "## PRINTS THE FULL REGRESSION TABLE TO THE OUTPUT TERMINAL\n",
        "print(model1.summary())\n",
        "\n",
        "\n",
        "## 1.2 REGRESSION TABLE OF ADJUSTED COSTS AGAINST US POPULATION\n",
        "\n",
        "## THIS USES STATSMODELS FORMULA API TO FIT A LINEAR REGRESSION MODEL PREDICTING ADJUSTED COSTS BASED ON US POPULATION\n",
        "## DIFFERENCE IS THAT THE PREDICTOR IS NOW US POPULATION\n",
        "model2 = smf.ols('Q(\"Adjusted Costs (billions USD 2024)\") ~ Q(\"US Pop (millions)\")', data=df).fit()\n",
        "print(\"\\n--- Regression 2: Adjusted Costs vs. US Population ---\")\n",
        "print(model2.summary())\n",
        "\n",
        "\n",
        "## 1.2 REGRESSION TABLE OF ADJUSTED COSTS AGAINST YEAR AND US POPULATION\n",
        "\n",
        "## THIS USES STATSMODELS FORMULA API TO FIT A LINEAR REGRESSION MODEL PREDICTING ADJUSTED COSTS BASED ON YEAR AND US POPULATION\n",
        "## DIFFERENCE IS THAT THE PREDICTOR IS NOW YEAR AND US POPULATION\n",
        "model3 = smf.ols('Q(\"Adjusted Costs (billions USD 2024)\") ~ Year + Q(\"US Pop (millions)\")', data=df).fit()\n",
        "print(\"\\n--- Regression 3: Adjusted Costs vs. Year and US Population ---\")\n",
        "print(model3.summary())"
      ],
      "metadata": {
        "colab": {
          "base_uri": "https://localhost:8080/"
        },
        "id": "6zRiMpN7efoH",
        "outputId": "62170f57-a4fa-4538-c063-f69c9eb58d07"
      },
      "execution_count": 1,
      "outputs": [
        {
          "output_type": "stream",
          "name": "stdout",
          "text": [
            "\n",
            "--- Regression 1: Adjusted Costs vs. Year ---\n",
            "                                       OLS Regression Results                                      \n",
            "===================================================================================================\n",
            "Dep. Variable:     Q(\"Adjusted Costs (billions USD 2024)\")   R-squared:                       0.080\n",
            "Model:                                                 OLS   Adj. R-squared:                  0.063\n",
            "Method:                                      Least Squares   F-statistic:                     4.610\n",
            "Date:                                     Sun, 20 Apr 2025   Prob (F-statistic):             0.0364\n",
            "Time:                                             18:34:00   Log-Likelihood:                -278.54\n",
            "No. Observations:                                       55   AIC:                             561.1\n",
            "Df Residuals:                                           53   BIC:                             565.1\n",
            "Df Model:                                                1                                         \n",
            "Covariance Type:                                 nonrobust                                         \n",
            "==============================================================================\n",
            "                 coef    std err          t      P>|t|      [0.025      0.975]\n",
            "------------------------------------------------------------------------------\n",
            "Intercept  -1018.8833    487.112     -2.092      0.041   -1995.907     -41.860\n",
            "Year           0.5232      0.244      2.147      0.036       0.034       1.012\n",
            "==============================================================================\n",
            "Omnibus:                       47.328   Durbin-Watson:                   0.221\n",
            "Prob(Omnibus):                  0.000   Jarque-Bera (JB):              166.871\n",
            "Skew:                           2.486   Prob(JB):                     5.81e-37\n",
            "Kurtosis:                       9.935   Cond. No.                     1.85e+05\n",
            "==============================================================================\n",
            "\n",
            "Notes:\n",
            "[1] Standard Errors assume that the covariance matrix of the errors is correctly specified.\n",
            "[2] The condition number is large, 1.85e+05. This might indicate that there are\n",
            "strong multicollinearity or other numerical problems.\n",
            "\n",
            "--- Regression 2: Adjusted Costs vs. US Population ---\n",
            "                                       OLS Regression Results                                      \n",
            "===================================================================================================\n",
            "Dep. Variable:     Q(\"Adjusted Costs (billions USD 2024)\")   R-squared:                       0.085\n",
            "Model:                                                 OLS   Adj. R-squared:                  0.068\n",
            "Method:                                      Least Squares   F-statistic:                     4.940\n",
            "Date:                                     Sun, 20 Apr 2025   Prob (F-statistic):             0.0305\n",
            "Time:                                             18:34:00   Log-Likelihood:                -278.38\n",
            "No. Observations:                                       55   AIC:                             560.8\n",
            "Df Residuals:                                           53   BIC:                             564.8\n",
            "Df Model:                                                1                                         \n",
            "Covariance Type:                                 nonrobust                                         \n",
            "==========================================================================================\n",
            "                             coef    std err          t      P>|t|      [0.025      0.975]\n",
            "------------------------------------------------------------------------------------------\n",
            "Intercept                -29.5222     25.927     -1.139      0.260     -81.526      22.481\n",
            "Q(\"US Pop (millions)\")     0.2023      0.091      2.223      0.031       0.020       0.385\n",
            "==============================================================================\n",
            "Omnibus:                       47.100   Durbin-Watson:                   0.235\n",
            "Prob(Omnibus):                  0.000   Jarque-Bera (JB):              165.372\n",
            "Skew:                           2.473   Prob(JB):                     1.23e-36\n",
            "Kurtosis:                       9.907   Cond. No.                     1.41e+03\n",
            "==============================================================================\n",
            "\n",
            "Notes:\n",
            "[1] Standard Errors assume that the covariance matrix of the errors is correctly specified.\n",
            "[2] The condition number is large, 1.41e+03. This might indicate that there are\n",
            "strong multicollinearity or other numerical problems.\n",
            "\n",
            "--- Regression 3: Adjusted Costs vs. Year and US Population ---\n",
            "                                       OLS Regression Results                                      \n",
            "===================================================================================================\n",
            "Dep. Variable:     Q(\"Adjusted Costs (billions USD 2024)\")   R-squared:                       0.104\n",
            "Model:                                                 OLS   Adj. R-squared:                  0.070\n",
            "Method:                                      Least Squares   F-statistic:                     3.024\n",
            "Date:                                     Sun, 20 Apr 2025   Prob (F-statistic):             0.0573\n",
            "Time:                                             18:34:00   Log-Likelihood:                -277.81\n",
            "No. Observations:                                       55   AIC:                             561.6\n",
            "Df Residuals:                                           52   BIC:                             567.6\n",
            "Df Model:                                                2                                         \n",
            "Covariance Type:                                 nonrobust                                         \n",
            "==========================================================================================\n",
            "                             coef    std err          t      P>|t|      [0.025      0.975]\n",
            "------------------------------------------------------------------------------------------\n",
            "Intercept               7716.5159   7392.833      1.044      0.301   -7118.288    2.26e+04\n",
            "Year                      -4.0883      3.902     -1.048      0.300     -11.918       3.741\n",
            "Q(\"US Pop (millions)\")     1.7310      1.462      1.184      0.242      -1.202       4.664\n",
            "==============================================================================\n",
            "Omnibus:                       45.938   Durbin-Watson:                   0.298\n",
            "Prob(Omnibus):                  0.000   Jarque-Bera (JB):              155.275\n",
            "Skew:                           2.419   Prob(JB):                     1.92e-34\n",
            "Kurtosis:                       9.659   Cond. No.                     2.85e+06\n",
            "==============================================================================\n",
            "\n",
            "Notes:\n",
            "[1] Standard Errors assume that the covariance matrix of the errors is correctly specified.\n",
            "[2] The condition number is large, 2.85e+06. This might indicate that there are\n",
            "strong multicollinearity or other numerical problems.\n"
          ]
        }
      ]
    },
    {
      "cell_type": "markdown",
      "source": [
        "**Regression Table of Adjusted Costs Against Year:** The p-value for year is equal to 0.036. Since 0.036 is less than 0.05, year is a statistically significant predictor of hurricane damage costs. In other words, as time progresses, hurricane damage costs tend to increase. This can possibly be due to inflation, urban expansion, and/or climate change impacts."
      ],
      "metadata": {
        "id": "BFDtgOqzevwr"
      }
    },
    {
      "cell_type": "markdown",
      "source": [
        "**Regression Table of Adjusted Costs Against U.S. Population:** The p-value for U.S. Population is 0.031. Since 0.031 is less than 0.05, U.S. Population is a statistically significant predictor of hurricane damage costs. In other words, as the U.S. Population increases, hurricane damage costs tend to increase. Higher population levels may correlate with greater infrastructure and property exposure to hurricane damage, which could possible be leading to higher costs."
      ],
      "metadata": {
        "id": "jbyzpgKEi-jn"
      }
    },
    {
      "cell_type": "markdown",
      "source": [
        "**Regression Table of Adjusted Costs Against Year and U.S. Population:** The p-value for year is equal to 0.300 and the p-value for U.S. Population is equal to 0.242. Since both variables are greater than 0.05, they are not statistically significant when included together. Since neither predictor is significant when both are in the model, this could suggest multicollinearity meaning that the variables are highly correlated (since both increase over time), making it hard to distinguish their individual effects."
      ],
      "metadata": {
        "id": "4tYXvivGj6YT"
      }
    },
    {
      "cell_type": "markdown",
      "source": [
        "**Apparent Conflict:** Yes, there seems to be an apparent conflict. In the first two regression models, year and U.S. Population each appeared to be significant predictors on their own, however, when combined in the third regression model, neither remained significant. As stated briefly before, this conflict likely arises due to multicollinearity since both year and U.S. Population are strongly related (since they both increase over time). Due to this, their individual contributions to predicting hurricane damage costs are not distinguishable when included in the same model. This is further supported by the very large condition number of 2.85e+06 in the third regression model, which signals multicollinearity issues. In conclusion, both year and U.S. Population are significant individual predictors of adjusted hurricane damage costs. However, when included together in the same regression model, neither one remains significant, which is an indicator of multicollinearity issues. This suggests that while each variable is associated with damage cost increases, their strong correlation prevents clear seperation of their effects in a combined model."
      ],
      "metadata": {
        "id": "FIeuKeULkmxB"
      }
    }
  ]
}